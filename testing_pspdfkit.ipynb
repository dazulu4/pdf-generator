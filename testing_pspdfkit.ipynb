{
 "cells": [
  {
   "cell_type": "markdown",
   "metadata": {},
   "source": [
    "PDF generator PSPDFKit API\n",
    "===\n",
    "\n",
    "- [Reference](https://pspdfkit.com/blog/2021/how-to-generate-pdf-reports-from-html-in-python/)"
   ]
  },
  {
   "cell_type": "code",
   "execution_count": 23,
   "metadata": {},
   "outputs": [],
   "source": [
    "import os\n",
    "import requests\n",
    "import json\n",
    "\n",
    "from pytictoc import TicToc"
   ]
  },
  {
   "cell_type": "code",
   "execution_count": 24,
   "metadata": {},
   "outputs": [],
   "source": [
    "resources_path = 'resources/pspdfkit'\n",
    "api_key = 'pdf_live_AV62sOu0wUrkM5u7A8MIly0fwiBAv6cd6MppZSzPtDN'"
   ]
  },
  {
   "cell_type": "markdown",
   "metadata": {},
   "source": [
    "# Preparing the Payload"
   ]
  },
  {
   "cell_type": "code",
   "execution_count": 25,
   "metadata": {},
   "outputs": [],
   "source": [
    "instructions = {\n",
    "    'parts': [{\n",
    "        'html': 'index.html',\n",
    "        'assets': [\n",
    "            \"Inter-Regular.ttf\",\n",
    "            \"Inter-Medium.ttf\",\n",
    "            \"Inter-Bold.ttf\",\n",
    "            \"SpaceMono-Regular.ttf\",\n",
    "            \"logo.svg\",\n",
    "            \"photo-1.png\",\n",
    "            \"photo-2.png\",\n",
    "            \"photo-3.png\",\n",
    "            \"photo-4.png\",\n",
    "        ]\n",
    "    }]\n",
    "}"
   ]
  },
  {
   "cell_type": "code",
   "execution_count": 26,
   "metadata": {},
   "outputs": [],
   "source": [
    "files_dict = {\n",
    "    'index.html': open(os.path.join(resources_path, 'index.html'), 'rb'),\n",
    "    'Inter-Regular.ttf': open(os.path.join(resources_path, 'Inter-Regular.ttf'), 'rb'),\n",
    "    'Inter-Medium.ttf': open(os.path.join(resources_path, 'Inter-Medium.ttf'), 'rb'),\n",
    "    'Inter-Bold.ttf': open(os.path.join(resources_path, 'Inter-Bold.ttf'), 'rb'),\n",
    "    'SpaceMono-Regular.ttf': open(os.path.join(resources_path, 'SpaceMono-Regular.ttf'), 'rb'),\n",
    "    'logo.svg': open(os.path.join(resources_path, 'logo.svg'), 'rb'),\n",
    "        'photo-1.png': open(os.path.join(resources_path, 'photo-1.png'), 'rb'),\n",
    "        'photo-2.png': open(os.path.join(resources_path, 'photo-2.png'), 'rb'),\n",
    "        'photo-3.png': open(os.path.join(resources_path, 'photo-3.png'), 'rb'),\n",
    "        'photo-4.png': open(os.path.join(resources_path, 'photo-4.png'), 'rb'),\n",
    "}"
   ]
  },
  {
   "cell_type": "markdown",
   "metadata": {},
   "source": [
    "# Generating the PDF"
   ]
  },
  {
   "cell_type": "code",
   "execution_count": 27,
   "metadata": {},
   "outputs": [
    {
     "name": "stdout",
     "output_type": "stream",
     "text": [
      "PDF Generate 3.644832 seconds.\n",
      "PDF Download 4.707091 seconds.\n"
     ]
    }
   ],
   "source": [
    "t = TicToc()\n",
    "t.tic()\n",
    "\n",
    "response = requests.request(\n",
    "    'POST',\n",
    "    'https://api.pspdfkit.com/build',\n",
    "    headers={'Authorization': f'Bearer {api_key}'},\n",
    "    files=files_dict,\n",
    "    data={'instructions': json.dumps(instructions)},\n",
    "    stream=True\n",
    ")\n",
    "t.toc('PDF Generate')\n",
    "\n",
    "if response.ok:\n",
    "    with open(os.path.join(resources_path, 'result.pdf'), 'wb') as fd:\n",
    "        for chunk in response.iter_content(chunk_size=8096):\n",
    "            fd.write(chunk)\n",
    "        t.toc('PDF Download')\n",
    "else:\n",
    "    print(\"ERROR\")\n",
    "    print(response.text)"
   ]
  }
 ],
 "metadata": {
  "kernelspec": {
   "display_name": "Python 3.10.4 ('prime')",
   "language": "python",
   "name": "python3"
  },
  "language_info": {
   "codemirror_mode": {
    "name": "ipython",
    "version": 3
   },
   "file_extension": ".py",
   "mimetype": "text/x-python",
   "name": "python",
   "nbconvert_exporter": "python",
   "pygments_lexer": "ipython3",
   "version": "3.10.4"
  },
  "orig_nbformat": 4,
  "vscode": {
   "interpreter": {
    "hash": "aa410a9887817929b1f2c458459059475cd7e4dadc5f8cd1248986cbfe942afa"
   }
  }
 },
 "nbformat": 4,
 "nbformat_minor": 2
}
