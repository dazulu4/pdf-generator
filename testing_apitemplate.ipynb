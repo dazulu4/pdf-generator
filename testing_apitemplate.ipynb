{
 "cells": [
  {
   "cell_type": "markdown",
   "metadata": {},
   "source": [
    "PDF generator API Template\n",
    "===\n",
    "\n",
    "- [Reference](https://apitemplate.io/pdf-generation-api/)"
   ]
  },
  {
   "cell_type": "code",
   "execution_count": 1,
   "metadata": {},
   "outputs": [],
   "source": [
    "from apitemplateio import APITemplateIO"
   ]
  },
  {
   "cell_type": "markdown",
   "metadata": {},
   "source": [
    "# Preparing the Payload"
   ]
  },
  {
   "cell_type": "code",
   "execution_count": 2,
   "metadata": {},
   "outputs": [],
   "source": [
    "api_key = \"3c0cODE0OTo1MTgwOlFpYUs3U1F6V0RrbkJmWEc\"\n",
    "template_id = \"cb277b2b225ed8fa\"\n",
    "save_to = \"resources/apitemplateio/result1.pdf\"\n",
    "data = {\n",
    "  \"company\": \"Logo.io\",\n",
    "  \"company_logo\": \"https://apitemplateio-user.s3-ap-southeast-1.amazonaws.com/1/7103/474ccdeb-790e-4e0a-b6d9-e23b0a4c4ecf.png\",\n",
    "  \"email\": \"hello@logo.io\",\n",
    "  \"invoice_no\": \"213223444\",\n",
    "  \"invoice_date\": \"2020-11-24\",\n",
    "  \"invoice_due_date\": \"2020-12-24\",\n",
    "  \"address_bill_to\": \"895  Sugarfoot Lane, Indiana, 46225\",\n",
    "  \"company_bill_to\": \"Vehement Capital Partners\",\n",
    "  \"website\": \"https://logo.io\",\n",
    "  \"document_id\": \"INV2456736937\",\n",
    "  \"items\": [\n",
    "    {\n",
    "      \"item_name\": \"Make Time: How to focus on what matters every day\",\n",
    "      \"unit_price\": 200.00,\n",
    "      \"unit\": 1,\n",
    "      \"total\": 200\n",
    "    },\n",
    "    {\n",
    "      \"item_name\": \"Grit: The Power of Passion and Perseverance \",\n",
    "      \"unit_price\": 200.00,\n",
    "      \"unit\": 3,\n",
    "      \"total\": 600\n",
    "    },\n",
    "    {\n",
    "      \"item_name\": \"Modern Man in Search of a Soul\",\n",
    "      \"unit_price\": 100.00,\n",
    "      \"unit\": 5,\n",
    "      \"total\": 500\n",
    "    },\n",
    "    {\n",
    "      \"item_name\": \"Ask!: The Bridge from Your Dreams to Your Destiny\",\n",
    "      \"unit_price\": 50.00,\n",
    "      \"unit\": 5,\n",
    "      \"total\": 250\n",
    "    }\n",
    "  ]\n",
    "}"
   ]
  },
  {
   "cell_type": "markdown",
   "metadata": {},
   "source": [
    "# Generating the PDF"
   ]
  },
  {
   "cell_type": "code",
   "execution_count": 3,
   "metadata": {},
   "outputs": [
    {
     "name": "stdout",
     "output_type": "stream",
     "text": [
      "PDF Generate 4.346005 seconds.\n",
      "https://pub-cdn.apitemplate.io/2022/07/e9413571-4b57-4346-9779-fdc800992a31.pdf\n",
      "PDF Download 6.464587 seconds.\n"
     ]
    },
    {
     "data": {
      "text/plain": [
       "True"
      ]
     },
     "execution_count": 3,
     "metadata": {},
     "output_type": "execute_result"
    }
   ],
   "source": [
    "apitemplate = APITemplateIO(api_key)\n",
    "apitemplate.create_pdf(template_id, data, save_to)"
   ]
  },
  {
   "cell_type": "markdown",
   "metadata": {},
   "source": [
    "# Generating the PDF change Logo"
   ]
  },
  {
   "cell_type": "code",
   "execution_count": 4,
   "metadata": {},
   "outputs": [],
   "source": [
    "save_to = \"resources/apitemplateio/result2.pdf\"\n",
    "\n",
    "data['company'] = \"TalentPitch\"\n",
    "data['company_logo'] = 'https://media.interacpedia.com/companies/29/130f066a-cf30-4727-8fd8-9a2bf078eeb3.png'\n",
    "data['company_logo'] = 'https://media.talentpitch.co/website/logos/website-TalentPitch-logo.svg'"
   ]
  },
  {
   "cell_type": "code",
   "execution_count": 5,
   "metadata": {},
   "outputs": [
    {
     "name": "stdout",
     "output_type": "stream",
     "text": [
      "PDF Generate 4.699892 seconds.\n",
      "https://pub-cdn.apitemplate.io/2022/07/a4d161f9-464d-41fc-b432-53dc32864002.pdf\n",
      "PDF Download 6.878308 seconds.\n"
     ]
    },
    {
     "data": {
      "text/plain": [
       "True"
      ]
     },
     "execution_count": 5,
     "metadata": {},
     "output_type": "execute_result"
    }
   ],
   "source": [
    "apitemplate = APITemplateIO(api_key)\n",
    "apitemplate.create_pdf(template_id, data, save_to)"
   ]
  },
  {
   "cell_type": "code",
   "execution_count": null,
   "metadata": {},
   "outputs": [],
   "source": []
  }
 ],
 "metadata": {
  "kernelspec": {
   "display_name": "Python 3.10.4 ('prime')",
   "language": "python",
   "name": "python3"
  },
  "language_info": {
   "codemirror_mode": {
    "name": "ipython",
    "version": 3
   },
   "file_extension": ".py",
   "mimetype": "text/x-python",
   "name": "python",
   "nbconvert_exporter": "python",
   "pygments_lexer": "ipython3",
   "version": "3.10.4"
  },
  "orig_nbformat": 4,
  "vscode": {
   "interpreter": {
    "hash": "aa410a9887817929b1f2c458459059475cd7e4dadc5f8cd1248986cbfe942afa"
   }
  }
 },
 "nbformat": 4,
 "nbformat_minor": 2
}
