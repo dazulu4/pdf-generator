{
 "cells": [
  {
   "cell_type": "markdown",
   "metadata": {},
   "source": [
    "PDF Kit package\n",
    "===\n",
    "\n",
    "- [Comparission](https://apitemplate.io/blog/a-guide-to-generate-pdfs-in-python/)\n",
    "- [Reference](https://medium.com/@bobbycxy/create-a-pdf-report-with-python-and-html-1780783607f)"
   ]
  },
  {
   "cell_type": "markdown",
   "metadata": {},
   "source": [
    "# Packages installation"
   ]
  },
  {
   "cell_type": "code",
   "execution_count": 2,
   "metadata": {},
   "outputs": [],
   "source": [
    "# !echo -e \"qwerty\\n\" | sudo -S apt-get update \n",
    "# !echo -e \"qwerty\\n\" | sudo -S apt-get install xvfb libfontconfig wkhtmltopdf"
   ]
  },
  {
   "cell_type": "code",
   "execution_count": 3,
   "metadata": {},
   "outputs": [],
   "source": [
    "# %pip install pdfkit"
   ]
  },
  {
   "cell_type": "code",
   "execution_count": 27,
   "metadata": {},
   "outputs": [],
   "source": [
    "# imports\n",
    "import os\n",
    "import pdfkit\n",
    "\n",
    "from datetime import datetime\n",
    "from jinja2 import Environment, FileSystemLoader"
   ]
  },
  {
   "cell_type": "markdown",
   "metadata": {},
   "source": [
    "# Example 1"
   ]
  },
  {
   "cell_type": "code",
   "execution_count": 85,
   "metadata": {},
   "outputs": [],
   "source": [
    "# variables\n",
    "res = \"/home/alexander/develop/others/pdf-generator/resources\"\n",
    "dat = datetime.now().strftime('%d %B, %Y')\n",
    "\n",
    "options = {\n",
    "    'page-size': 'A4',\n",
    "    'margin-top': '0.75in',\n",
    "    'margin-right': '0.75in',\n",
    "    'margin-bottom': '0.75in',\n",
    "    'margin-left': '0.75in',\n",
    "    'encoding': \"UTF-8\",\n",
    "    'enable-local-file-access': None,\n",
    "    'no-outline': None,\n",
    "}"
   ]
  },
  {
   "cell_type": "code",
   "execution_count": 18,
   "metadata": {},
   "outputs": [
    {
     "data": {
      "text/plain": [
       "True"
      ]
     },
     "execution_count": 18,
     "metadata": {},
     "output_type": "execute_result"
    }
   ],
   "source": [
    "# calling the from file method to convert file to pdf\n",
    "pdfkit.from_file(os.path.join(res, 'template1.html'), os.path.join(res, 'example11.pdf'))"
   ]
  },
  {
   "cell_type": "code",
   "execution_count": 4,
   "metadata": {},
   "outputs": [
    {
     "data": {
      "text/plain": [
       "True"
      ]
     },
     "execution_count": 4,
     "metadata": {},
     "output_type": "execute_result"
    }
   ],
   "source": [
    "# you can also specify the setting of the page and font like the following:\n",
    "pdfkit.from_file(os.path.join(res, 'template1.html'), os.path.join(res, 'example12.pdf'), options=options)"
   ]
  },
  {
   "cell_type": "code",
   "execution_count": 18,
   "metadata": {},
   "outputs": [
    {
     "data": {
      "text/plain": [
       "True"
      ]
     },
     "execution_count": 18,
     "metadata": {},
     "output_type": "execute_result"
    }
   ],
   "source": [
    "# It also supports generating pdfs from links by calling the from_url method.\n",
    "pdfkit.from_url('https://apitemplate.io/',  os.path.join(res, 'example13.pdf'))"
   ]
  },
  {
   "cell_type": "markdown",
   "metadata": {},
   "source": [
    "# Example 2"
   ]
  },
  {
   "cell_type": "code",
   "execution_count": 54,
   "metadata": {},
   "outputs": [],
   "source": [
    "env = Environment(loader=FileSystemLoader('/'))\n",
    "template = env.get_template(os.path.join(res, 'template2.html'))\n",
    "template_vars = {\n",
    "    \"image1_path\": os.path.join(res, \"image1.png\"),\n",
    "    \"image2_path\": os.path.join(res, \"image2.png\"),\n",
    "}\n",
    "html_string = template.render(template_vars)"
   ]
  },
  {
   "cell_type": "code",
   "execution_count": 80,
   "metadata": {},
   "outputs": [],
   "source": [
    "options = {\n",
    "    'page-size': 'A4',\n",
    "    'margin-top': '0.75in',\n",
    "    'margin-right': '0.75in',\n",
    "    'margin-bottom': '0.75in',\n",
    "    'margin-left': '0.75in',\n",
    "    'encoding': \"UTF-8\",\n",
    "    'enable-local-file-access': None,\n",
    "    'no-outline': None,\n",
    "}"
   ]
  },
  {
   "cell_type": "code",
   "execution_count": 81,
   "metadata": {},
   "outputs": [
    {
     "data": {
      "text/plain": [
       "True"
      ]
     },
     "execution_count": 81,
     "metadata": {},
     "output_type": "execute_result"
    }
   ],
   "source": [
    "# calling the from file method to convert file to pdf\n",
    "pdfkit.from_string(html_string, os.path.join(res, 'example21.pdf'))"
   ]
  },
  {
   "cell_type": "code",
   "execution_count": 82,
   "metadata": {},
   "outputs": [
    {
     "data": {
      "text/plain": [
       "True"
      ]
     },
     "execution_count": 82,
     "metadata": {},
     "output_type": "execute_result"
    }
   ],
   "source": [
    "# you can also specify the setting of the page and font like the following:\n",
    "pdfkit.from_string(html_string, os.path.join(res, 'example22.pdf'), options=options)"
   ]
  },
  {
   "cell_type": "markdown",
   "metadata": {},
   "source": [
    "# Example 3"
   ]
  },
  {
   "cell_type": "code",
   "execution_count": 77,
   "metadata": {},
   "outputs": [],
   "source": [
    "env = Environment(loader=FileSystemLoader('/'))\n",
    "template = env.get_template(os.path.join(res, 'template2.html'))\n",
    "template_vars = {\n",
    "    \"image1_path\": os.path.join(res, \"image1.png\"),\n",
    "    \"image2_path\": os.path.join(res, \"image2.png\"),\n",
    "}\n",
    "html_string = template.render(template_vars)"
   ]
  },
  {
   "cell_type": "code",
   "execution_count": 88,
   "metadata": {},
   "outputs": [],
   "source": [
    "options_alt = {\n",
    "    'page-size': 'A4',\n",
    "    'margin-top': '0.75in',\n",
    "    'margin-right': '0.75in',\n",
    "    'margin-bottom': '0.75in',\n",
    "    'margin-left': '0.75in',\n",
    "    'encoding': \"UTF-8\",\n",
    "    'enable-local-file-access': None,\n",
    "    'no-outline': None,\n",
    "    'header-font-name': 'Times New Roman',\n",
    "    'header-font-size': 9,\n",
    "    'header-center': \"PoC PDF generator with PDFKit\",\n",
    "    # 'footer-font-name': 'Times New Roman',\n",
    "    # 'footer-font-size': 9,\n",
    "    # 'footer-right': 'Created on ' + dat,\n",
    "    # 'footer-center': \"Page [page] of [topage]\",\n",
    "    # 'footer-left': 'Created by: Alexander Zuluaga',\n",
    "    'custom-header' : [\n",
    "        ('Accept-Encoding', 'gzip')\n",
    "    ],\n",
    "}"
   ]
  },
  {
   "cell_type": "code",
   "execution_count": 89,
   "metadata": {},
   "outputs": [
    {
     "data": {
      "text/plain": [
       "True"
      ]
     },
     "execution_count": 89,
     "metadata": {},
     "output_type": "execute_result"
    }
   ],
   "source": [
    "pdfkit.from_string(html_string, os.path.join(res, 'example31.pdf'), options=options_alt)"
   ]
  },
  {
   "cell_type": "code",
   "execution_count": null,
   "metadata": {},
   "outputs": [],
   "source": []
  }
 ],
 "metadata": {
  "kernelspec": {
   "display_name": "Python 3.10.4 ('prime')",
   "language": "python",
   "name": "python3"
  },
  "language_info": {
   "codemirror_mode": {
    "name": "ipython",
    "version": 3
   },
   "file_extension": ".py",
   "mimetype": "text/x-python",
   "name": "python",
   "nbconvert_exporter": "python",
   "pygments_lexer": "ipython3",
   "version": "3.10.4"
  },
  "orig_nbformat": 4,
  "vscode": {
   "interpreter": {
    "hash": "aa410a9887817929b1f2c458459059475cd7e4dadc5f8cd1248986cbfe942afa"
   }
  }
 },
 "nbformat": 4,
 "nbformat_minor": 2
}
