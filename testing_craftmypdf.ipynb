{
 "cells": [
  {
   "cell_type": "markdown",
   "metadata": {},
   "source": [
    "PDF generator CraftMyPDF API\n",
    "===\n",
    "\n",
    "- [Reference](https://craftmypdf.com/blog/how-to-generate-pdfs-with-python-pdfkit-and-craftmypdf/)"
   ]
  },
  {
   "cell_type": "code",
   "execution_count": 46,
   "metadata": {},
   "outputs": [],
   "source": [
    "import requests, json, os\n",
    "\n",
    "from pytictoc import TicToc"
   ]
  },
  {
   "cell_type": "markdown",
   "metadata": {},
   "source": [
    "# Preparing the Payload"
   ]
  },
  {
   "cell_type": "code",
   "execution_count": 52,
   "metadata": {},
   "outputs": [],
   "source": [
    "api_key = \"b8d8MTUxMjoxNTEwOmdLSEo1SnlwY1hSemdick8\"\n",
    "\n",
    "data = {\n",
    "    \"order_number\": \"83472842\",\n",
    "    \"order_date\": \"2021-09-30\",\n",
    "    \"ship_date\": \"2021-09-30\",\n",
    "    \"currency\": \"USD\",\n",
    "    \"company_name\": \"Your Company\",\n",
    "    \"company_logo\": \"https://craftmypdf-upload.s3-ap-southeast-1.amazonaws.com/3e9/e8685396-e4a3-4ded-a20b-342e7edc762f.png\",\n",
    "    \"email\": \"hello@yourcompany.com\",\n",
    "    \"customer_name\": \"Dyan Louise\",\n",
    "    \"ship_to\": \"Orsis Pte Ltd\",\n",
    "    \"ship_to_address\": \"2769 Nutter Street,\",\n",
    "    \"ship_to_address2\": \"Kansas City, Missouri\",\n",
    "    \"ship_to_address3\": \"64105\",\n",
    "    \"is_partial_order\": False,\n",
    "    \"items\": [\n",
    "        {\n",
    "            \"tracking_id\": \"83425812\",\n",
    "            \"description\": \"Bellroy Transit Backpack\",\n",
    "            \"qty_ordered\": 2,\n",
    "            \"qty_shipped\": 2,\n",
    "            \"image_url\": \"https://craftmypdf.s3.ap-southeast-1.amazonaws.com/templates-preview/backpack_images/transit_bag.png\"\n",
    "        },\n",
    "        {\n",
    "            \"tracking_id\": \"76525878\",\n",
    "            \"description\": \"Core Backpack 2.0 20L\",\n",
    "            \"qty_ordered\": 3,\n",
    "            \"qty_shipped\": 3,\n",
    "            \"image_url\": \"https://craftmypdf.s3.ap-southeast-1.amazonaws.com/templates-preview/backpack_images/core_back.png\"\n",
    "        },\n",
    "        {\n",
    "            \"tracking_id\": \"18458283\",\n",
    "            \"description\": \"CoolBELL Convertible Backpack \",\n",
    "            \"qty_ordered\": 3,\n",
    "            \"qty_shipped\": 3,\n",
    "            \"image_url\": \"https://craftmypdf.s3.ap-southeast-1.amazonaws.com/templates-preview/backpack_images/cool_bell.png\"\n",
    "        },\n",
    "        {\n",
    "            \"tracking_id\": \"97927845\",\n",
    "            \"description\": \"Everyday Backpack 2.0 23L\",\n",
    "            \"qty_ordered\": 3,\n",
    "            \"qty_shipped\": 3,\n",
    "            \"image_url\": \"https://craftmypdf.s3.ap-southeast-1.amazonaws.com/templates-preview/backpack_images/everyday_backpack.png\"\n",
    "        },\n",
    "        {\n",
    "            \"tracking_id\": \"82919243\",\n",
    "            \"description\": \"Samsonite Classic Leather Backpack\",\n",
    "            \"qty_ordered\": 3,\n",
    "            \"qty_shipped\": 3,\n",
    "            \"image_url\": \"https://craftmypdf.s3.ap-southeast-1.amazonaws.com/templates-preview/backpack_images/Samsonite_Classic_Leather_Backpack.png\"\n",
    "        },\n",
    "        {\n",
    "            \"tracking_id\": \"35726454\",\n",
    "            \"description\": \"Crumpler - Mantra Backpack\",\n",
    "            \"qty_ordered\": 3,\n",
    "            \"qty_shipped\": 3,\n",
    "            \"image_url\": \"https://craftmypdf.s3.ap-southeast-1.amazonaws.com/templates-preview/backpack_images/CRUMPLE-MANTRABACKPACK.png\"\n",
    "        },\n",
    "        {\n",
    "            \"tracking_id\": \"83425812\",\n",
    "            \"description\": \"Bellroy Transit Backpack\",\n",
    "            \"qty_ordered\": 2,\n",
    "            \"qty_shipped\": 2,\n",
    "            \"image_url\": \"https://craftmypdf.s3.ap-southeast-1.amazonaws.com/templates-preview/backpack_images/transit_bag.png\"\n",
    "        },\n",
    "        {\n",
    "            \"tracking_id\": \"76525878\",\n",
    "            \"description\": \"Core Backpack 2.0 20L\",\n",
    "            \"qty_ordered\": 3,\n",
    "            \"qty_shipped\": 3,\n",
    "            \"image_url\": \"https://craftmypdf.s3.ap-southeast-1.amazonaws.com/templates-preview/backpack_images/core_back.png\"\n",
    "        },\n",
    "        {\n",
    "            \"tracking_id\": \"18458283\",\n",
    "            \"description\": \"CoolBELL Convertible Backpack \",\n",
    "            \"qty_ordered\": 3,\n",
    "            \"qty_shipped\": 3,\n",
    "            \"image_url\": \"https://craftmypdf.s3.ap-southeast-1.amazonaws.com/templates-preview/backpack_images/cool_bell.png\"\n",
    "        },\n",
    "        {\n",
    "            \"tracking_id\": \"97927845\",\n",
    "            \"description\": \"Everyday Backpack 2.0 23L\",\n",
    "            \"qty_ordered\": 3,\n",
    "            \"qty_shipped\": 3,\n",
    "            \"image_url\": \"https://craftmypdf.s3.ap-southeast-1.amazonaws.com/templates-preview/backpack_images/everyday_backpack.png\"\n",
    "        },\n",
    "        {\n",
    "            \"tracking_id\": \"82919243\",\n",
    "            \"description\": \"Samsonite Classic Leather Backpack\",\n",
    "            \"qty_ordered\": 3,\n",
    "            \"qty_shipped\": 3,\n",
    "            \"image_url\": \"https://craftmypdf.s3.ap-southeast-1.amazonaws.com/templates-preview/backpack_images/Samsonite_Classic_Leather_Backpack.png\"\n",
    "        },\n",
    "        {\n",
    "            \"tracking_id\": \"35726454\",\n",
    "            \"description\": \"Crumpler - Mantra Backpack\",\n",
    "            \"qty_ordered\": 3,\n",
    "            \"qty_shipped\": 3,\n",
    "            \"image_url\": \"https://craftmypdf.s3.ap-southeast-1.amazonaws.com/templates-preview/backpack_images/CRUMPLE-MANTRABACKPACK.png\"\n",
    "        }\n",
    "    ],\n",
    "    \"gross_total\": 25055\n",
    "}"
   ]
  },
  {
   "cell_type": "markdown",
   "metadata": {},
   "source": [
    "# Generating the PDF"
   ]
  },
  {
   "cell_type": "code",
   "execution_count": 53,
   "metadata": {},
   "outputs": [],
   "source": [
    "json_payload = {\n",
    "      \"data\": json.dumps(data) ,\n",
    "      \"output_file\": \"output.pdf\",\n",
    "      \"export_type\": \"json\",\n",
    "      \"expiration\": 10,\n",
    "      \"template_id\": \"23977b2b1ef8cf2e\"\n",
    "    }"
   ]
  },
  {
   "cell_type": "code",
   "execution_count": 54,
   "metadata": {},
   "outputs": [
    {
     "name": "stdout",
     "output_type": "stream",
     "text": [
      "PDF Generate 6.425849 seconds.\n",
      "PDF Download 11.232511 seconds.\n"
     ]
    }
   ],
   "source": [
    "t = TicToc()\n",
    "t.tic()\n",
    "\n",
    "# Calling the REST API to generate a PDF\n",
    "response = requests.post(\n",
    "    F\"https://api.craftmypdf.com/v1/create\",\n",
    "    headers = {\"X-API-KEY\": F\"{api_key}\"},\n",
    "    json = json_payload\n",
    ")\n",
    "t.toc('PDF Generate')\n",
    "\n",
    "output_dict = json.loads(response.content)\n",
    "download = requests.get(output_dict['file'], allow_redirects=True)\n",
    "open(os.path.join('resources', 'craftmypdf', 'output1.pdf'), 'wb').write(download.content)\n",
    "t.toc('PDF Download')"
   ]
  },
  {
   "cell_type": "markdown",
   "metadata": {},
   "source": [
    "# Generating the PDF change Logo"
   ]
  },
  {
   "cell_type": "code",
   "execution_count": 50,
   "metadata": {},
   "outputs": [],
   "source": [
    "data['company_name'] = \"TalentPitch\"\n",
    "data['company_logo'] = 'https://media.interacpedia.com/companies/29/130f066a-cf30-4727-8fd8-9a2bf078eeb3.png'\n",
    "\n",
    "json_payload = {\n",
    "      \"data\": json.dumps(data) ,\n",
    "      \"output_file\": \"output.pdf\",\n",
    "      \"export_type\": \"json\",\n",
    "      \"expiration\": 10,\n",
    "      \"template_id\": \"23977b2b1ef8cf2e\"\n",
    "    }"
   ]
  },
  {
   "cell_type": "code",
   "execution_count": 51,
   "metadata": {},
   "outputs": [
    {
     "name": "stdout",
     "output_type": "stream",
     "text": [
      "PDF Generate 4.651210 seconds.\n",
      "PDF Download 8.541626 seconds.\n"
     ]
    }
   ],
   "source": [
    "t = TicToc()\n",
    "t.tic()\n",
    "\n",
    "response = requests.post(\n",
    "    F\"https://api.craftmypdf.com/v1/create\",\n",
    "    headers = {\"X-API-KEY\": F\"{api_key}\"},\n",
    "    json = json_payload\n",
    ")\n",
    "t.toc('PDF Generate')\n",
    "\n",
    "output_dict = json.loads(response.content)\n",
    "download = requests.get(output_dict['file'], allow_redirects=True)\n",
    "open(os.path.join('resources', 'craftmypdf', 'output2.pdf'), 'wb').write(download.content)\n",
    "t.toc('PDF Download')"
   ]
  },
  {
   "cell_type": "code",
   "execution_count": null,
   "metadata": {},
   "outputs": [],
   "source": []
  }
 ],
 "metadata": {
  "kernelspec": {
   "display_name": "Python 3.10.4 ('prime')",
   "language": "python",
   "name": "python3"
  },
  "language_info": {
   "codemirror_mode": {
    "name": "ipython",
    "version": 3
   },
   "file_extension": ".py",
   "mimetype": "text/x-python",
   "name": "python",
   "nbconvert_exporter": "python",
   "pygments_lexer": "ipython3",
   "version": "3.10.4"
  },
  "orig_nbformat": 4,
  "vscode": {
   "interpreter": {
    "hash": "aa410a9887817929b1f2c458459059475cd7e4dadc5f8cd1248986cbfe942afa"
   }
  }
 },
 "nbformat": 4,
 "nbformat_minor": 2
}
